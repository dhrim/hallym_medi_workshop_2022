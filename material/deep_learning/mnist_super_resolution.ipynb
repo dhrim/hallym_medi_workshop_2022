{
  "nbformat": 4,
  "nbformat_minor": 0,
  "metadata": {
    "colab": {
      "name": "mnist_super_resolution.ipynb",
      "provenance": []
    },
    "kernelspec": {
      "name": "python3",
      "display_name": "Python 3"
    },
    "accelerator": "GPU"
  },
  "cells": [
    {
      "cell_type": "markdown",
      "metadata": {
        "id": "jLKCaOxfGQg3"
      },
      "source": [
        "modified from https://blog.naver.com/ckdgus1433/221443838135"
      ]
    },
    {
      "cell_type": "code",
      "metadata": {
        "id": "PhlLzK2qzOQU"
      },
      "source": [
        "import matplotlib.pyplot as plt\n",
        "import numpy as np\n",
        "from tensorflow.keras.datasets import mnist\n",
        "from tensorflow.keras.layers import Dense\n",
        "from tensorflow.keras import Sequential"
      ],
      "execution_count": 1,
      "outputs": []
    },
    {
      "cell_type": "code",
      "metadata": {
        "id": "HHW1dtOvzOTu",
        "colab": {
          "base_uri": "https://localhost:8080/"
        },
        "outputId": "3914e57c-4503-4449-e694-8b89dc665415"
      },
      "source": [
        "# MNIST 로딩 (라벨은 필요없기 때문에 버림)\n",
        "(train_x, _), (test_x, _) = mnist.load_data()"
      ],
      "execution_count": 2,
      "outputs": [
        {
          "output_type": "stream",
          "name": "stdout",
          "text": [
            "Downloading data from https://storage.googleapis.com/tensorflow/tf-keras-datasets/mnist.npz\n",
            "11493376/11490434 [==============================] - 0s 0us/step\n",
            "11501568/11490434 [==============================] - 0s 0us/step\n"
          ]
        }
      ]
    },
    {
      "cell_type": "code",
      "metadata": {
        "id": "E5B1_T2yzONm"
      },
      "source": [
        "# 데이터 정규화 및 Reshape\n",
        "train_x = train_x.astype('float32') / 255.\n",
        "test_x = test_x.astype('float32') / 255."
      ],
      "execution_count": 3,
      "outputs": []
    },
    {
      "cell_type": "code",
      "metadata": {
        "id": "9I4G_rT-zecq",
        "colab": {
          "base_uri": "https://localhost:8080/"
        },
        "outputId": "71ca74db-51d3-4170-a898-18d4bbf0811c"
      },
      "source": [
        "def shrink(data, rows, cols):\n",
        "    return data.reshape(data.shape[0], rows, int(data.shape[1]/rows), cols, int(data.shape[2]/cols)).sum(axis=2).sum(axis=3)\n",
        "\n",
        "reduced_train_x = shrink(train_x, 14, 14)\n",
        "reduced_test_x = shrink(test_x, 14, 14)\n",
        "print(reduced_train_x.shape)\n",
        "print(reduced_test_x.shape)\n"
      ],
      "execution_count": 4,
      "outputs": [
        {
          "output_type": "stream",
          "name": "stdout",
          "text": [
            "(60000, 14, 14)\n",
            "(10000, 14, 14)\n"
          ]
        }
      ]
    },
    {
      "cell_type": "code",
      "metadata": {
        "id": "5jFitrsf13K3",
        "colab": {
          "base_uri": "https://localhost:8080/",
          "height": 241
        },
        "outputId": "bc834d4e-cfdc-4366-e87e-c3d44bfb335c"
      },
      "source": [
        "n = 10\n",
        "\n",
        "plt.figure(figsize=(20, 2))\n",
        "for i in range(1,n):\n",
        "    ax = plt.subplot(1, n, i)\n",
        "    plt.imshow(train_x[i])\n",
        "    plt.gray()\n",
        "    ax.get_xaxis().set_visible(False)\n",
        "    ax.get_yaxis().set_visible(False)\n",
        "plt.show()\n",
        "\n",
        "# 해상도 낮아진 이미지 확인\n",
        "plt.figure(figsize=(20, 2))\n",
        "for i in range(1,n):\n",
        "    ax = plt.subplot(1, n, i)\n",
        "    plt.imshow(reduced_train_x[i])\n",
        "    plt.gray()\n",
        "    ax.get_xaxis().set_visible(False)\n",
        "    ax.get_yaxis().set_visible(False)\n",
        "plt.show()"
      ],
      "execution_count": 5,
      "outputs": [
        {
          "output_type": "display_data",
          "data": {
            "text/plain": [
              "<Figure size 1440x144 with 9 Axes>"
            ],
            "image/png": "[encoded data removed]"
          },
          "metadata": {
            "needs_background": "light"
          }
        },
        {
          "output_type": "display_data",
          "data": {
            "text/plain": [
              "<Figure size 1440x144 with 9 Axes>"
            ],
            "image/png": "[encoded data removed]"
          },
          "metadata": {
            "needs_background": "light"
          }
        }
      ]
    },
    {
      "cell_type": "code",
      "metadata": {
        "id": "QtW_31_Q2IG6"
      },
      "source": [
        "reduced_train_x = reduced_train_x.reshape(reduced_train_x.shape[0], 14*14)\n",
        "reduced_test_x = reduced_test_x.reshape(reduced_test_x.shape[0], 14*14)\n",
        "train_x = train_x.reshape(train_x.shape[0], 28*28)\n",
        "test_x = test_x.reshape(test_x.shape[0], 28*28)"
      ],
      "execution_count": 6,
      "outputs": []
    },
    {
      "cell_type": "code",
      "metadata": {
        "id": "gUTop4Mg2z0T",
        "colab": {
          "base_uri": "https://localhost:8080/"
        },
        "outputId": "5ea3813a-c953-4327-ce2d-65a346c256f5"
      },
      "source": [
        "print(reduced_train_x.shape)\n",
        "print(train_x.shape)\n",
        "print(reduced_test_x.shape)\n",
        "print(test_x.shape)"
      ],
      "execution_count": 7,
      "outputs": [
        {
          "output_type": "stream",
          "name": "stdout",
          "text": [
            "(60000, 196)\n",
            "(60000, 784)\n",
            "(10000, 196)\n",
            "(10000, 784)\n"
          ]
        }
      ]
    },
    {
      "cell_type": "code",
      "metadata": {
        "id": "Xqt71jtz2fjo",
        "colab": {
          "base_uri": "https://localhost:8080/"
        },
        "outputId": "476cd0f9-be97-49f0-8ea9-6eef5c0ca550"
      },
      "source": [
        "# 모델 정의\n",
        "model = Sequential()\n",
        "\n",
        "model.add(Dense(128, activation='relu', input_dim=14*14))\n",
        "model.add(Dense(64, activation='relu'))\n",
        "model.add(Dense(32, activation='relu'))\n",
        "model.add(Dense(64, activation='relu'))\n",
        "model.add(Dense(128, activation='relu'))\n",
        "model.add(Dense(784, activation='sigmoid'))\n",
        "\n",
        "model.compile(optimizer='adam', loss='mse')\n",
        "\n",
        "# 모델 학습\n",
        "model.fit(reduced_train_x, train_x, epochs=50, batch_size=256, validation_split=0.1)"
      ],
      "execution_count": 8,
      "outputs": [
        {
          "output_type": "stream",
          "name": "stdout",
          "text": [
            "Epoch 1/50\n",
            "211/211 [==============================] - 4s 5ms/step - loss: 0.0629 - val_loss: 0.0393\n",
            "Epoch 2/50\n",
            "211/211 [==============================] - 1s 4ms/step - loss: 0.0327 - val_loss: 0.0278\n",
            "Epoch 3/50\n",
            "211/211 [==============================] - 1s 4ms/step - loss: 0.0249 - val_loss: 0.0221\n",
            "Epoch 4/50\n",
            "211/211 [==============================] - 1s 4ms/step - loss: 0.0207 - val_loss: 0.0195\n",
            "Epoch 5/50\n",
            "211/211 [==============================] - 1s 4ms/step - loss: 0.0187 - val_loss: 0.0178\n",
            "Epoch 6/50\n",
            "211/211 [==============================] - 1s 4ms/step - loss: 0.0173 - val_loss: 0.0166\n",
            "Epoch 7/50\n",
            "211/211 [==============================] - 1s 4ms/step - loss: 0.0162 - val_loss: 0.0156\n",
            "Epoch 8/50\n",
            "211/211 [==============================] - 1s 4ms/step - loss: 0.0152 - val_loss: 0.0147\n",
            "Epoch 9/50\n",
            "211/211 [==============================] - 1s 4ms/step - loss: 0.0145 - val_loss: 0.0142\n",
            "Epoch 10/50\n",
            "211/211 [==============================] - 1s 4ms/step - loss: 0.0140 - val_loss: 0.0136\n",
            "Epoch 11/50\n",
            "211/211 [==============================] - 1s 4ms/step - loss: 0.0135 - val_loss: 0.0132\n",
            "Epoch 12/50\n",
            "211/211 [==============================] - 1s 4ms/step - loss: 0.0131 - val_loss: 0.0129\n",
            "Epoch 13/50\n",
            "211/211 [==============================] - 1s 4ms/step - loss: 0.0127 - val_loss: 0.0126\n",
            "Epoch 14/50\n",
            "211/211 [==============================] - 1s 4ms/step - loss: 0.0124 - val_loss: 0.0123\n",
            "Epoch 15/50\n",
            "211/211 [==============================] - 1s 4ms/step - loss: 0.0121 - val_loss: 0.0120\n",
            "Epoch 16/50\n",
            "211/211 [==============================] - 1s 4ms/step - loss: 0.0118 - val_loss: 0.0117\n",
            "Epoch 17/50\n",
            "211/211 [==============================] - 1s 4ms/step - loss: 0.0116 - val_loss: 0.0115\n",
            "Epoch 18/50\n",
            "211/211 [==============================] - 1s 4ms/step - loss: 0.0114 - val_loss: 0.0113\n",
            "Epoch 19/50\n",
            "211/211 [==============================] - 1s 4ms/step - loss: 0.0113 - val_loss: 0.0111\n",
            "Epoch 20/50\n",
            "211/211 [==============================] - 1s 4ms/step - loss: 0.0110 - val_loss: 0.0110\n",
            "Epoch 21/50\n",
            "211/211 [==============================] - 1s 4ms/step - loss: 0.0109 - val_loss: 0.0108\n",
            "Epoch 22/50\n",
            "211/211 [==============================] - 1s 4ms/step - loss: 0.0107 - val_loss: 0.0106\n",
            "Epoch 23/50\n",
            "211/211 [==============================] - 1s 4ms/step - loss: 0.0106 - val_loss: 0.0105\n",
            "Epoch 24/50\n",
            "211/211 [==============================] - 1s 4ms/step - loss: 0.0105 - val_loss: 0.0105\n",
            "Epoch 25/50\n",
            "211/211 [==============================] - 1s 4ms/step - loss: 0.0103 - val_loss: 0.0103\n",
            "Epoch 26/50\n",
            "211/211 [==============================] - 1s 4ms/step - loss: 0.0102 - val_loss: 0.0103\n",
            "Epoch 27/50\n",
            "211/211 [==============================] - 1s 4ms/step - loss: 0.0101 - val_loss: 0.0102\n",
            "Epoch 28/50\n",
            "211/211 [==============================] - 1s 4ms/step - loss: 0.0100 - val_loss: 0.0100\n",
            "Epoch 29/50\n",
            "211/211 [==============================] - 1s 4ms/step - loss: 0.0099 - val_loss: 0.0100\n",
            "Epoch 30/50\n",
            "211/211 [==============================] - 1s 4ms/step - loss: 0.0099 - val_loss: 0.0099\n",
            "Epoch 31/50\n",
            "211/211 [==============================] - 1s 4ms/step - loss: 0.0098 - val_loss: 0.0098\n",
            "Epoch 32/50\n",
            "211/211 [==============================] - 1s 4ms/step - loss: 0.0097 - val_loss: 0.0097\n",
            "Epoch 33/50\n",
            "211/211 [==============================] - 1s 4ms/step - loss: 0.0096 - val_loss: 0.0097\n",
            "Epoch 34/50\n",
            "211/211 [==============================] - 1s 4ms/step - loss: 0.0096 - val_loss: 0.0096\n",
            "Epoch 35/50\n",
            "211/211 [==============================] - 1s 4ms/step - loss: 0.0095 - val_loss: 0.0096\n",
            "Epoch 36/50\n",
            "211/211 [==============================] - 1s 4ms/step - loss: 0.0094 - val_loss: 0.0095\n",
            "Epoch 37/50\n",
            "211/211 [==============================] - 1s 4ms/step - loss: 0.0094 - val_loss: 0.0094\n",
            "Epoch 38/50\n",
            "211/211 [==============================] - 1s 4ms/step - loss: 0.0093 - val_loss: 0.0094\n",
            "Epoch 39/50\n",
            "211/211 [==============================] - 1s 4ms/step - loss: 0.0093 - val_loss: 0.0093\n",
            "Epoch 40/50\n",
            "211/211 [==============================] - 1s 4ms/step - loss: 0.0092 - val_loss: 0.0093\n",
            "Epoch 41/50\n",
            "211/211 [==============================] - 1s 4ms/step - loss: 0.0091 - val_loss: 0.0094\n",
            "Epoch 42/50\n",
            "211/211 [==============================] - 1s 4ms/step - loss: 0.0091 - val_loss: 0.0092\n",
            "Epoch 43/50\n",
            "211/211 [==============================] - 1s 4ms/step - loss: 0.0090 - val_loss: 0.0091\n",
            "Epoch 44/50\n",
            "211/211 [==============================] - 1s 4ms/step - loss: 0.0090 - val_loss: 0.0090\n",
            "Epoch 45/50\n",
            "211/211 [==============================] - 1s 4ms/step - loss: 0.0089 - val_loss: 0.0090\n",
            "Epoch 46/50\n",
            "211/211 [==============================] - 1s 4ms/step - loss: 0.0089 - val_loss: 0.0090\n",
            "Epoch 47/50\n",
            "211/211 [==============================] - 1s 4ms/step - loss: 0.0089 - val_loss: 0.0089\n",
            "Epoch 48/50\n",
            "211/211 [==============================] - 1s 4ms/step - loss: 0.0088 - val_loss: 0.0089\n",
            "Epoch 49/50\n",
            "211/211 [==============================] - 1s 4ms/step - loss: 0.0088 - val_loss: 0.0088\n",
            "Epoch 50/50\n",
            "211/211 [==============================] - 1s 4ms/step - loss: 0.0087 - val_loss: 0.0088\n"
          ]
        },
        {
          "output_type": "execute_result",
          "data": {
            "text/plain": [
              "<keras.callbacks.History at 0x7f8be040e410>"
            ]
          },
          "metadata": {},
          "execution_count": 8
        }
      ]
    },
    {
      "cell_type": "code",
      "metadata": {
        "id": "2y4hQ-VfFxF4",
        "colab": {
          "base_uri": "https://localhost:8080/",
          "height": 359
        },
        "outputId": "608495ae-a44f-4ef0-8c0c-4678f8caa1ef"
      },
      "source": [
        "# 결과 확인\n",
        "super_resolutioned = model.predict(reduced_test_x)\n",
        "\n",
        "n = 10\n",
        "plt.figure(figsize=(20, 6))\n",
        "for i in range(1, n):\n",
        "    # display original\n",
        "    ax = plt.subplot(3, n, i)\n",
        "    plt.imshow(test_x[i].reshape(28,28))\n",
        "    plt.gray()\n",
        "    ax.get_xaxis().set_visible(False)\n",
        "    ax.get_yaxis().set_visible(False)\n",
        "\n",
        "    # display reduced\n",
        "    ax = plt.subplot(3, n, i + n)\n",
        "    plt.imshow(reduced_test_x[i].reshape(14,14))\n",
        "    plt.gray()\n",
        "    ax.get_xaxis().set_visible(False)\n",
        "    ax.get_yaxis().set_visible(False)\n",
        "\n",
        "    # display super resolution\n",
        "    ax = plt.subplot(3, n, i + 2*n)\n",
        "    plt.imshow(super_resolutioned[i].reshape(28,28))\n",
        "    plt.gray()\n",
        "    ax.get_xaxis().set_visible(False)\n",
        "    ax.get_yaxis().set_visible(False)\n",
        "\n",
        "plt.show()"
      ],
      "execution_count": 9,
      "outputs": [
        {
          "output_type": "display_data",
          "data": {
            "text/plain": [
              "<Figure size 1440x432 with 27 Axes>"
            ],
            "image/png": "[encoded data removed]"
          },
          "metadata": {
            "needs_background": "light"
          }
        }
      ]
    },
    {
      "cell_type": "code",
      "metadata": {
        "id": "fTqVK4F6F1S2"
      },
      "source": [
        ""
      ],
      "execution_count": null,
      "outputs": []
    }
  ]
}